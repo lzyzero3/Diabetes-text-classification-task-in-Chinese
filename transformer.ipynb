{
 "cells": [
  {
   "cell_type": "code",
   "execution_count": 1,
   "id": "initial_id",
   "metadata": {
    "collapsed": true,
    "ExecuteTime": {
     "end_time": "2023-10-02T13:58:26.768842400Z",
     "start_time": "2023-10-02T13:58:26.764832300Z"
    }
   },
   "outputs": [],
   "source": [
    "import pandas as pd\n",
    "import re"
   ]
  },
  {
   "cell_type": "code",
   "execution_count": 2,
   "outputs": [],
   "source": [
    "##为训练集数据添加标签，把文本数据转化为csv\n",
    "train_file_path = 'train.txt'\n",
    "train_data = pd.read_csv(train_file_path, sep='\\s+', header=None, engine='python')\n",
    "train_data.columns = ['text', 'target']\n",
    "train_data.to_csv('train_data.csv', index=False)\n",
    "##为测试集数据添加标签，把文本数据转化为csv\n",
    "dev_file_path = 'dev.txt'\n",
    "dev_data = pd.read_csv(dev_file_path, sep='\\s+', header=None, engine='python')\n",
    "dev_data.columns = ['text', 'target']\n",
    "dev_data.to_csv('dev_data.csv', index=False)\n",
    "##为标签集数据添加标签，把文本数据转化为csv\n",
    "class_file_path = 'class.txt'\n",
    "data = []\n",
    "with open(class_file_path, 'r') as file:\n",
    "    for line in file:\n",
    "        match = re.match(r'^(.*)\\s+(\\d+)$', line.strip())\n",
    "        if match:\n",
    "            category, label = match.groups()\n",
    "            data.append((category, int(label)))\n",
    "class_data = pd.DataFrame(data, columns=['category', 'label'])\n",
    "class_data.to_csv('class_data.csv', index=False)"
   ],
   "metadata": {
    "collapsed": false,
    "ExecuteTime": {
     "end_time": "2023-10-02T13:58:29.904786300Z",
     "start_time": "2023-10-02T13:58:29.826020300Z"
    }
   },
   "id": "cf1bbec9ad64416d"
  },
  {
   "cell_type": "code",
   "execution_count": 3,
   "outputs": [],
   "source": [
    "x_train = train_data['text'].tolist()\n",
    "train_label = train_data['target'].tolist()\n",
    "\n",
    "# 提取测试数据的文本和标签\n",
    "x_test = dev_data['text'].tolist()\n",
    "test_label = dev_data['target'].tolist()"
   ],
   "metadata": {
    "collapsed": false,
    "ExecuteTime": {
     "end_time": "2023-10-02T13:58:30.667006100Z",
     "start_time": "2023-10-02T13:58:30.663796600Z"
    }
   },
   "id": "7fe856c283b80235"
  },
  {
   "cell_type": "code",
   "execution_count": 4,
   "outputs": [],
   "source": [
    "from transformers import BertTokenizer\n",
    "tokenizer = BertTokenizer.from_pretrained('bert-base-chinese')\n",
    "train_encoding = tokenizer(x_train, truncation=True, padding=True, max_length=64)\n",
    "test_encoding = tokenizer(x_test, truncation=True, padding=True, max_length=64)\n"
   ],
   "metadata": {
    "collapsed": false,
    "ExecuteTime": {
     "end_time": "2023-10-02T13:58:34.206688100Z",
     "start_time": "2023-10-02T13:58:31.869225Z"
    }
   },
   "id": "2dfcc9acb09d4d1d"
  },
  {
   "cell_type": "code",
   "execution_count": 5,
   "outputs": [],
   "source": [
    "import torch\n",
    "from sklearn.model_selection import train_test_split\n",
    "from torch.utils.data import Dataset, DataLoader, TensorDataset\n",
    "import numpy as np\n",
    "import pandas as pd\n",
    "import random\n",
    "import re\n",
    "\n",
    "class NewsDataset(Dataset):\n",
    "    def __init__(self, encodings, labels):\n",
    "        self.encodings = encodings\n",
    "        self.labels = labels\n",
    "    \n",
    "    # 读取单个样本\n",
    "    def __getitem__(self, idx):\n",
    "        item = {key: torch.tensor(val[idx]) for key, val in self.encodings.items()}\n",
    "        item['labels'] = torch.tensor(int(self.labels[idx]))\n",
    "        return item\n",
    "    \n",
    "    def __len__(self):\n",
    "        return len(self.labels)\n",
    "\n",
    "train_dataset = NewsDataset(train_encoding, train_label)\n",
    "test_dataset = NewsDataset(test_encoding, test_label)"
   ],
   "metadata": {
    "collapsed": false,
    "ExecuteTime": {
     "end_time": "2023-10-02T13:58:37.819200900Z",
     "start_time": "2023-10-02T13:58:34.685046300Z"
    }
   },
   "id": "cc15c080518031df"
  },
  {
   "cell_type": "code",
   "execution_count": 6,
   "outputs": [],
   "source": [
    "def flat_accuracy(preds, labels):\n",
    "    pred_flat = np.argmax(preds, axis=1).flatten()\n",
    "    labels_flat = labels.flatten()\n",
    "    return np.sum(pred_flat == labels_flat) / len(labels_flat)"
   ],
   "metadata": {
    "collapsed": false,
    "ExecuteTime": {
     "end_time": "2023-10-02T13:58:44.908376Z",
     "start_time": "2023-10-02T13:58:44.906894400Z"
    }
   },
   "id": "6d075d1e723b6b7f"
  },
  {
   "cell_type": "code",
   "execution_count": 7,
   "outputs": [
    {
     "name": "stderr",
     "output_type": "stream",
     "text": [
      "Some weights of BertForSequenceClassification were not initialized from the model checkpoint at bert-base-chinese and are newly initialized: ['classifier.weight', 'classifier.bias']\n",
      "You should probably TRAIN this model on a down-stream task to be able to use it for predictions and inference.\n",
      "D:\\Python\\lib\\site-packages\\transformers\\optimization.py:411: FutureWarning: This implementation of AdamW is deprecated and will be removed in a future version. Use the PyTorch implementation torch.optim.AdamW instead, or set `no_deprecation_warning=True` to disable this warning\n",
      "  warnings.warn(\n"
     ]
    }
   ],
   "source": [
    "from transformers import BertForSequenceClassification, AdamW, get_linear_schedule_with_warmup\n",
    "model = BertForSequenceClassification.from_pretrained('bert-base-chinese', num_labels=6)\n",
    "device = torch.device(\"cuda\" if torch.cuda.is_available() else \"cpu\")\n",
    "model.to(device)\n",
    "\n",
    "# 单个读取到批量读取\n",
    "train_loader = DataLoader(train_dataset, batch_size = 8, shuffle=True)\n",
    "test_dataloader = DataLoader(test_dataset, batch_size= 8,shuffle=True)\n",
    "\n",
    "# 优化方法\n",
    "optim = AdamW(model.parameters(), lr=2e-5)\n",
    "total_steps = len(train_loader) * 1\n",
    "scheduler = get_linear_schedule_with_warmup(optim, \n",
    "                                            num_warmup_steps = 0, # Default value in run_glue.py\n",
    "                                            num_training_steps = total_steps)"
   ],
   "metadata": {
    "collapsed": false,
    "ExecuteTime": {
     "end_time": "2023-10-02T13:58:49.446266100Z",
     "start_time": "2023-10-02T13:58:45.875317500Z"
    }
   },
   "id": "62d655061da15c5a"
  },
  {
   "cell_type": "code",
   "execution_count": 36,
   "outputs": [
    {
     "name": "stdout",
     "output_type": "stream",
     "text": [
      "------------Epoch: 0 ----------------\n",
      "epoth: 0, iter_num: 100, loss: 0.4045, 25.00%\n",
      "epoth: 0, iter_num: 200, loss: 0.3224, 50.00%\n",
      "epoth: 0, iter_num: 300, loss: 0.6282, 75.00%\n",
      "epoth: 0, iter_num: 400, loss: 0.2371, 100.00%\n",
      "Epoch: 0, Average training loss: 0.6618\n",
      "Accuracy: 0.8502\n",
      "Average testing loss: 0.4794\n",
      "-------------------------------\n"
     ]
    }
   ],
   "source": [
    "# 训练函数\n",
    "def train():\n",
    "    model.train()\n",
    "    total_train_loss = 0\n",
    "    iter_num = 0\n",
    "    total_iter = len(train_loader)\n",
    "    for batch in train_loader:\n",
    "        # 正向传播\n",
    "        optim.zero_grad()\n",
    "        input_ids = batch['input_ids'].to(device)\n",
    "        attention_mask = batch['attention_mask'].to(device)\n",
    "        labels = batch['labels'].to(device)\n",
    "        outputs = model(input_ids, attention_mask=attention_mask, labels=labels)\n",
    "        loss = outputs[0]\n",
    "        total_train_loss += loss.item()\n",
    "        \n",
    "        # 反向梯度信息\n",
    "        loss.backward()\n",
    "        torch.nn.utils.clip_grad_norm_(model.parameters(), 1.0)\n",
    "        \n",
    "        # 参数更新\n",
    "        optim.step()\n",
    "        scheduler.step()\n",
    "\n",
    "        iter_num += 1\n",
    "        if(iter_num % 100==0):\n",
    "            print(\"epoth: %d, iter_num: %d, loss: %.4f, %.2f%%\" % (epoch, iter_num, loss.item(), iter_num/total_iter*100))\n",
    "        \n",
    "    print(\"Epoch: %d, Average training loss: %.4f\"%(epoch, total_train_loss/len(train_loader)))\n",
    "    \n",
    "def validation():\n",
    "    model.eval()\n",
    "    total_eval_accuracy = 0\n",
    "    total_eval_loss = 0\n",
    "    for batch in test_dataloader:\n",
    "        with torch.no_grad():\n",
    "            # 正常传播\n",
    "            input_ids = batch['input_ids'].to(device)\n",
    "            attention_mask = batch['attention_mask'].to(device)\n",
    "            labels = batch['labels'].to(device)\n",
    "            outputs = model(input_ids, attention_mask=attention_mask, labels=labels)\n",
    "        \n",
    "        loss = outputs[0]\n",
    "        logits = outputs[1]\n",
    "\n",
    "        total_eval_loss += loss.item()\n",
    "        logits = logits.detach().cpu().numpy()\n",
    "        label_ids = labels.to('cpu').numpy()\n",
    "        total_eval_accuracy += flat_accuracy(logits, label_ids)\n",
    "        \n",
    "    avg_val_accuracy = total_eval_accuracy / len(test_dataloader)\n",
    "    print(\"Accuracy: %.4f\" % (avg_val_accuracy))\n",
    "    print(\"Average testing loss: %.4f\"%(total_eval_loss/len(test_dataloader)))\n",
    "    print(\"-------------------------------\")\n",
    "    \n",
    "\n",
    "for epoch in range(4):\n",
    "    print(\"------------Epoch: %d ----------------\" % epoch)\n",
    "    train()\n",
    "    validation()\n"
   ],
   "metadata": {
    "collapsed": false,
    "ExecuteTime": {
     "end_time": "2023-10-02T08:08:24.740464400Z",
     "start_time": "2023-10-02T07:58:13.302741200Z"
    }
   },
   "id": "75c0a46d21789af5"
  },
  {
   "cell_type": "code",
   "execution_count": 35,
   "outputs": [
    {
     "data": {
      "text/plain": "400"
     },
     "execution_count": 35,
     "metadata": {},
     "output_type": "execute_result"
    }
   ],
   "source": [
    "len(train_loader)"
   ],
   "metadata": {
    "collapsed": false,
    "ExecuteTime": {
     "end_time": "2023-10-02T07:58:01.865677700Z",
     "start_time": "2023-10-02T07:58:01.858567200Z"
    }
   },
   "id": "d19fd188d5126813"
  },
  {
   "cell_type": "code",
   "execution_count": 9,
   "outputs": [
    {
     "name": "stdout",
     "output_type": "stream",
     "text": [
      "------------Epoch: 0 ----------------\n",
      "epoth: 0, iter_num: 100, loss: 0.2239, 13.33%\n",
      "epoth: 0, iter_num: 200, loss: 0.0564, 26.67%\n",
      "epoth: 0, iter_num: 300, loss: 0.2672, 40.00%\n",
      "epoth: 0, iter_num: 400, loss: 0.7337, 53.33%\n",
      "epoth: 0, iter_num: 500, loss: 0.0628, 66.67%\n",
      "epoth: 0, iter_num: 600, loss: 0.2807, 80.00%\n",
      "epoth: 0, iter_num: 700, loss: 0.4916, 93.33%\n",
      "Epoch: 0, Average training loss: 0.3284\n",
      "Accuracy: 0.8660\n",
      "Average testing loss: 0.4582\n",
      "-------------------------------\n",
      "Predictions saved to predictions.csv\n",
      "------------Epoch: 1 ----------------\n",
      "epoth: 1, iter_num: 100, loss: 0.0808, 13.33%\n",
      "epoth: 1, iter_num: 200, loss: 0.5397, 26.67%\n",
      "epoth: 1, iter_num: 300, loss: 1.1698, 40.00%\n",
      "epoth: 1, iter_num: 400, loss: 0.1138, 53.33%\n",
      "epoth: 1, iter_num: 500, loss: 0.1091, 66.67%\n",
      "epoth: 1, iter_num: 600, loss: 0.1232, 80.00%\n",
      "epoth: 1, iter_num: 700, loss: 0.4343, 93.33%\n",
      "Epoch: 1, Average training loss: 0.3290\n",
      "Accuracy: 0.8660\n",
      "Average testing loss: 0.4582\n",
      "-------------------------------\n",
      "Predictions saved to predictions.csv\n",
      "------------Epoch: 2 ----------------\n",
      "epoth: 2, iter_num: 100, loss: 0.1384, 13.33%\n",
      "epoth: 2, iter_num: 200, loss: 0.3020, 26.67%\n",
      "epoth: 2, iter_num: 300, loss: 0.2021, 40.00%\n",
      "epoth: 2, iter_num: 400, loss: 1.2059, 53.33%\n",
      "epoth: 2, iter_num: 500, loss: 0.0780, 66.67%\n",
      "epoth: 2, iter_num: 600, loss: 0.0483, 80.00%\n",
      "epoth: 2, iter_num: 700, loss: 0.5352, 93.33%\n",
      "Epoch: 2, Average training loss: 0.3306\n",
      "Accuracy: 0.8660\n",
      "Average testing loss: 0.4582\n",
      "-------------------------------\n",
      "Predictions saved to predictions.csv\n"
     ]
    }
   ],
   "source": [
    "# 训练函数\n",
    "def train():\n",
    "    model.train()\n",
    "    total_train_loss = 0\n",
    "    iter_num = 0\n",
    "    total_iter = len(train_loader)\n",
    "    for batch in train_loader:\n",
    "        # 正向传播\n",
    "        optim.zero_grad()\n",
    "        input_ids = batch['input_ids'].to(device)\n",
    "        attention_mask = batch['attention_mask'].to(device)\n",
    "        labels = batch['labels'].to(device)\n",
    "        outputs = model(input_ids, attention_mask=attention_mask, labels=labels)\n",
    "        loss = outputs[0]\n",
    "        total_train_loss += loss.item()\n",
    "        \n",
    "        # 反向梯度信息\n",
    "        loss.backward()\n",
    "        torch.nn.utils.clip_grad_norm_(model.parameters(), 1.0)\n",
    "        \n",
    "        # 参数更新\n",
    "        optim.step()\n",
    "        scheduler.step()\n",
    "\n",
    "        iter_num += 1\n",
    "        if(iter_num % 100==0):\n",
    "            print(\"epoth: %d, iter_num: %d, loss: %.4f, %.2f%%\" % (epoch, iter_num, loss.item(), iter_num/total_iter*100))\n",
    "        \n",
    "    print(\"Epoch: %d, Average training loss: %.4f\"%(epoch, total_train_loss/len(train_loader)))\n",
    "    \n",
    "def validation():\n",
    "    model.eval()\n",
    "    total_eval_accuracy = 0\n",
    "    total_eval_loss = 0\n",
    "    \n",
    "    all_predictions = []\n",
    "    all_true_labels = []\n",
    "    \n",
    "    for batch in test_dataloader:\n",
    "        with torch.no_grad():\n",
    "            # 正常传播\n",
    "            input_ids = batch['input_ids'].to(device)\n",
    "            attention_mask = batch['attention_mask'].to(device)\n",
    "            labels = batch['labels'].to(device)\n",
    "            outputs = model(input_ids, attention_mask=attention_mask, labels=labels)\n",
    "        \n",
    "        loss = outputs[0]\n",
    "        logits = outputs[1]\n",
    "\n",
    "        total_eval_loss += loss.item()\n",
    "        logits = logits.detach().cpu().numpy()\n",
    "        predictions = np.argmax(logits, axis=1).flatten()\n",
    "        label_ids = labels.to('cpu').numpy()\n",
    "        \n",
    "        all_predictions.extend(predictions)\n",
    "        all_true_labels.extend(label_ids)\n",
    "        \n",
    "        total_eval_accuracy += flat_accuracy(logits, label_ids)\n",
    "        \n",
    "    avg_val_accuracy = total_eval_accuracy / len(test_dataloader)\n",
    "    print(\"Accuracy: %.4f\" % (avg_val_accuracy))\n",
    "    print(\"Average testing loss: %.4f\"%(total_eval_loss/len(test_dataloader)))\n",
    "    print(\"-------------------------------\")\n",
    "    \n",
    "        # 创建一个DataFrame并保存为CSV\n",
    "    df = pd.DataFrame({'True Labels': all_true_labels, 'Predictions': all_predictions})\n",
    "    df.to_csv('predictions.csv', index=False)\n",
    "    print(\"Predictions saved to predictions.csv\")\n",
    "\n",
    "for epoch in range(3):\n",
    "    print(\"------------Epoch: %d ----------------\" % epoch)\n",
    "    train()\n",
    "    validation()\n"
   ],
   "metadata": {
    "collapsed": false,
    "ExecuteTime": {
     "end_time": "2023-10-02T15:02:07.180505100Z",
     "start_time": "2023-10-02T14:20:10.032596700Z"
    }
   },
   "id": "a23cc0e433c2b4d2"
  },
  {
   "cell_type": "code",
   "execution_count": null,
   "outputs": [],
   "source": [],
   "metadata": {
    "collapsed": false
   },
   "id": "7f152ab7d7c99013"
  }
 ],
 "metadata": {
  "kernelspec": {
   "display_name": "Python 3",
   "language": "python",
   "name": "python3"
  },
  "language_info": {
   "codemirror_mode": {
    "name": "ipython",
    "version": 2
   },
   "file_extension": ".py",
   "mimetype": "text/x-python",
   "name": "python",
   "nbconvert_exporter": "python",
   "pygments_lexer": "ipython2",
   "version": "2.7.6"
  }
 },
 "nbformat": 4,
 "nbformat_minor": 5
}
